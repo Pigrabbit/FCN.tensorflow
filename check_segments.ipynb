{
 "cells": [
  {
   "cell_type": "code",
   "execution_count": 56,
   "metadata": {},
   "outputs": [],
   "source": [
    "import nibabel as nib\n",
    "import gzip\n",
    "import os\n",
    "import glob\n",
    "import numpy as np\n",
    "\n",
    "DATA_PATH = \"./data/BraTS2018/MICCAI_BraTS_2018_Data_Training/HGG\"\n",
    "\n",
    "dir_list = os.listdir(DATA_PATH)\n",
    "seg_files = {}"
   ]
  },
  {
   "cell_type": "code",
   "execution_count": 59,
   "metadata": {},
   "outputs": [],
   "source": [
    "for dir in dir_list:\n",
    "    path = os.path.join(DATA_PATH, dir)\n",
    "    file_list = glob.glob(path + \"\\\\*.gz\")\n",
    "    seg = [file for file in file_list if file.endswith(\"seg.nii.gz\")]\n",
    "    if len(seg) != 0:\n",
    "        seg_files[dir] = seg[0]"
   ]
  },
  {
   "cell_type": "code",
   "execution_count": 60,
   "metadata": {},
   "outputs": [
    {
     "data": {
      "text/plain": [
       "{'Brats18_2013_10_1': './data/BraTS2018/MICCAI_BraTS_2018_Data_Training/HGG\\\\Brats18_2013_10_1\\\\Brats18_2013_10_1_seg.nii.gz',\n",
       " 'Brats18_2013_11_1': './data/BraTS2018/MICCAI_BraTS_2018_Data_Training/HGG\\\\Brats18_2013_11_1\\\\Brats18_2013_11_1_seg.nii.gz',\n",
       " 'Brats18_2013_12_1': './data/BraTS2018/MICCAI_BraTS_2018_Data_Training/HGG\\\\Brats18_2013_12_1\\\\Brats18_2013_12_1_seg.nii.gz',\n",
       " 'Brats18_2013_13_1': './data/BraTS2018/MICCAI_BraTS_2018_Data_Training/HGG\\\\Brats18_2013_13_1\\\\Brats18_2013_13_1_seg.nii.gz',\n",
       " 'Brats18_2013_14_1': './data/BraTS2018/MICCAI_BraTS_2018_Data_Training/HGG\\\\Brats18_2013_14_1\\\\Brats18_2013_14_1_seg.nii.gz',\n",
       " 'Brats18_2013_17_1': './data/BraTS2018/MICCAI_BraTS_2018_Data_Training/HGG\\\\Brats18_2013_17_1\\\\Brats18_2013_17_1_seg.nii.gz',\n",
       " 'Brats18_2013_18_1': './data/BraTS2018/MICCAI_BraTS_2018_Data_Training/HGG\\\\Brats18_2013_18_1\\\\Brats18_2013_18_1_seg.nii.gz',\n",
       " 'Brats18_2013_19_1': './data/BraTS2018/MICCAI_BraTS_2018_Data_Training/HGG\\\\Brats18_2013_19_1\\\\Brats18_2013_19_1_seg.nii.gz',\n",
       " 'Brats18_2013_20_1': './data/BraTS2018/MICCAI_BraTS_2018_Data_Training/HGG\\\\Brats18_2013_20_1\\\\Brats18_2013_20_1_seg.nii.gz',\n",
       " 'Brats18_2013_21_1': './data/BraTS2018/MICCAI_BraTS_2018_Data_Training/HGG\\\\Brats18_2013_21_1\\\\Brats18_2013_21_1_seg.nii.gz',\n",
       " 'Brats18_2013_22_1': './data/BraTS2018/MICCAI_BraTS_2018_Data_Training/HGG\\\\Brats18_2013_22_1\\\\Brats18_2013_22_1_seg.nii.gz',\n",
       " 'Brats18_2013_23_1': './data/BraTS2018/MICCAI_BraTS_2018_Data_Training/HGG\\\\Brats18_2013_23_1\\\\Brats18_2013_23_1_seg.nii.gz',\n",
       " 'Brats18_2013_25_1': './data/BraTS2018/MICCAI_BraTS_2018_Data_Training/HGG\\\\Brats18_2013_25_1\\\\Brats18_2013_25_1_seg.nii.gz',\n",
       " 'Brats18_2013_26_1': './data/BraTS2018/MICCAI_BraTS_2018_Data_Training/HGG\\\\Brats18_2013_26_1\\\\Brats18_2013_26_1_seg.nii.gz',\n",
       " 'Brats18_2013_27_1': './data/BraTS2018/MICCAI_BraTS_2018_Data_Training/HGG\\\\Brats18_2013_27_1\\\\Brats18_2013_27_1_seg.nii.gz',\n",
       " 'Brats18_2013_2_1': './data/BraTS2018/MICCAI_BraTS_2018_Data_Training/HGG\\\\Brats18_2013_2_1\\\\Brats18_2013_2_1_seg.nii.gz',\n",
       " 'Brats18_2013_3_1': './data/BraTS2018/MICCAI_BraTS_2018_Data_Training/HGG\\\\Brats18_2013_3_1\\\\Brats18_2013_3_1_seg.nii.gz',\n",
       " 'Brats18_2013_4_1': './data/BraTS2018/MICCAI_BraTS_2018_Data_Training/HGG\\\\Brats18_2013_4_1\\\\Brats18_2013_4_1_seg.nii.gz',\n",
       " 'Brats18_2013_5_1': './data/BraTS2018/MICCAI_BraTS_2018_Data_Training/HGG\\\\Brats18_2013_5_1\\\\Brats18_2013_5_1_seg.nii.gz',\n",
       " 'Brats18_2013_7_1': './data/BraTS2018/MICCAI_BraTS_2018_Data_Training/HGG\\\\Brats18_2013_7_1\\\\Brats18_2013_7_1_seg.nii.gz',\n",
       " 'Brats18_CBICA_AAB_1': './data/BraTS2018/MICCAI_BraTS_2018_Data_Training/HGG\\\\Brats18_CBICA_AAB_1\\\\Brats18_CBICA_AAB_1_seg.nii.gz',\n",
       " 'Brats18_CBICA_AAG_1': './data/BraTS2018/MICCAI_BraTS_2018_Data_Training/HGG\\\\Brats18_CBICA_AAG_1\\\\Brats18_CBICA_AAG_1_seg.nii.gz',\n",
       " 'Brats18_CBICA_AAL_1': './data/BraTS2018/MICCAI_BraTS_2018_Data_Training/HGG\\\\Brats18_CBICA_AAL_1\\\\Brats18_CBICA_AAL_1_seg.nii.gz',\n",
       " 'Brats18_CBICA_AAP_1': './data/BraTS2018/MICCAI_BraTS_2018_Data_Training/HGG\\\\Brats18_CBICA_AAP_1\\\\Brats18_CBICA_AAP_1_seg.nii.gz',\n",
       " 'Brats18_CBICA_ABB_1': './data/BraTS2018/MICCAI_BraTS_2018_Data_Training/HGG\\\\Brats18_CBICA_ABB_1\\\\Brats18_CBICA_ABB_1_seg.nii.gz',\n",
       " 'Brats18_CBICA_ABE_1': './data/BraTS2018/MICCAI_BraTS_2018_Data_Training/HGG\\\\Brats18_CBICA_ABE_1\\\\Brats18_CBICA_ABE_1_seg.nii.gz',\n",
       " 'Brats18_CBICA_ABM_1': './data/BraTS2018/MICCAI_BraTS_2018_Data_Training/HGG\\\\Brats18_CBICA_ABM_1\\\\Brats18_CBICA_ABM_1_seg.nii.gz',\n",
       " 'Brats18_CBICA_ABN_1': './data/BraTS2018/MICCAI_BraTS_2018_Data_Training/HGG\\\\Brats18_CBICA_ABN_1\\\\Brats18_CBICA_ABN_1_seg.nii.gz',\n",
       " 'Brats18_CBICA_ABO_1': './data/BraTS2018/MICCAI_BraTS_2018_Data_Training/HGG\\\\Brats18_CBICA_ABO_1\\\\Brats18_CBICA_ABO_1_seg.nii.gz',\n",
       " 'Brats18_CBICA_ABY_1': './data/BraTS2018/MICCAI_BraTS_2018_Data_Training/HGG\\\\Brats18_CBICA_ABY_1\\\\Brats18_CBICA_ABY_1_seg.nii.gz',\n",
       " 'Brats18_CBICA_ALN_1': './data/BraTS2018/MICCAI_BraTS_2018_Data_Training/HGG\\\\Brats18_CBICA_ALN_1\\\\Brats18_CBICA_ALN_1_seg.nii.gz',\n",
       " 'Brats18_CBICA_ALU_1': './data/BraTS2018/MICCAI_BraTS_2018_Data_Training/HGG\\\\Brats18_CBICA_ALU_1\\\\Brats18_CBICA_ALU_1_seg.nii.gz',\n",
       " 'Brats18_CBICA_ALX_1': './data/BraTS2018/MICCAI_BraTS_2018_Data_Training/HGG\\\\Brats18_CBICA_ALX_1\\\\Brats18_CBICA_ALX_1_seg.nii.gz',\n",
       " 'Brats18_CBICA_AME_1': './data/BraTS2018/MICCAI_BraTS_2018_Data_Training/HGG\\\\Brats18_CBICA_AME_1\\\\Brats18_CBICA_AME_1_seg.nii.gz',\n",
       " 'Brats18_CBICA_AMH_1': './data/BraTS2018/MICCAI_BraTS_2018_Data_Training/HGG\\\\Brats18_CBICA_AMH_1\\\\Brats18_CBICA_AMH_1_seg.nii.gz',\n",
       " 'Brats18_CBICA_ANG_1': './data/BraTS2018/MICCAI_BraTS_2018_Data_Training/HGG\\\\Brats18_CBICA_ANG_1\\\\Brats18_CBICA_ANG_1_seg.nii.gz',\n",
       " 'Brats18_CBICA_ANI_1': './data/BraTS2018/MICCAI_BraTS_2018_Data_Training/HGG\\\\Brats18_CBICA_ANI_1\\\\Brats18_CBICA_ANI_1_seg.nii.gz',\n",
       " 'Brats18_CBICA_ANP_1': './data/BraTS2018/MICCAI_BraTS_2018_Data_Training/HGG\\\\Brats18_CBICA_ANP_1\\\\Brats18_CBICA_ANP_1_seg.nii.gz',\n",
       " 'Brats18_CBICA_ANZ_1': './data/BraTS2018/MICCAI_BraTS_2018_Data_Training/HGG\\\\Brats18_CBICA_ANZ_1\\\\Brats18_CBICA_ANZ_1_seg.nii.gz',\n",
       " 'Brats18_CBICA_AOD_1': './data/BraTS2018/MICCAI_BraTS_2018_Data_Training/HGG\\\\Brats18_CBICA_AOD_1\\\\Brats18_CBICA_AOD_1_seg.nii.gz',\n",
       " 'Brats18_CBICA_AOH_1': './data/BraTS2018/MICCAI_BraTS_2018_Data_Training/HGG\\\\Brats18_CBICA_AOH_1\\\\Brats18_CBICA_AOH_1_seg.nii.gz',\n",
       " 'Brats18_CBICA_AOO_1': './data/BraTS2018/MICCAI_BraTS_2018_Data_Training/HGG\\\\Brats18_CBICA_AOO_1\\\\Brats18_CBICA_AOO_1_seg.nii.gz',\n",
       " 'Brats18_CBICA_AOP_1': './data/BraTS2018/MICCAI_BraTS_2018_Data_Training/HGG\\\\Brats18_CBICA_AOP_1\\\\Brats18_CBICA_AOP_1_seg.nii.gz',\n",
       " 'Brats18_CBICA_AOZ_1': './data/BraTS2018/MICCAI_BraTS_2018_Data_Training/HGG\\\\Brats18_CBICA_AOZ_1\\\\Brats18_CBICA_AOZ_1_seg.nii.gz',\n",
       " 'Brats18_CBICA_APR_1': './data/BraTS2018/MICCAI_BraTS_2018_Data_Training/HGG\\\\Brats18_CBICA_APR_1\\\\Brats18_CBICA_APR_1_seg.nii.gz',\n",
       " 'Brats18_CBICA_APY_1': './data/BraTS2018/MICCAI_BraTS_2018_Data_Training/HGG\\\\Brats18_CBICA_APY_1\\\\Brats18_CBICA_APY_1_seg.nii.gz',\n",
       " 'Brats18_CBICA_APZ_1': './data/BraTS2018/MICCAI_BraTS_2018_Data_Training/HGG\\\\Brats18_CBICA_APZ_1\\\\Brats18_CBICA_APZ_1_seg.nii.gz',\n",
       " 'Brats18_CBICA_AQA_1': './data/BraTS2018/MICCAI_BraTS_2018_Data_Training/HGG\\\\Brats18_CBICA_AQA_1\\\\Brats18_CBICA_AQA_1_seg.nii.gz',\n",
       " 'Brats18_CBICA_AQD_1': './data/BraTS2018/MICCAI_BraTS_2018_Data_Training/HGG\\\\Brats18_CBICA_AQD_1\\\\Brats18_CBICA_AQD_1_seg.nii.gz',\n",
       " 'Brats18_CBICA_AQG_1': './data/BraTS2018/MICCAI_BraTS_2018_Data_Training/HGG\\\\Brats18_CBICA_AQG_1\\\\Brats18_CBICA_AQG_1_seg.nii.gz',\n",
       " 'Brats18_CBICA_AQJ_1': './data/BraTS2018/MICCAI_BraTS_2018_Data_Training/HGG\\\\Brats18_CBICA_AQJ_1\\\\Brats18_CBICA_AQJ_1_seg.nii.gz',\n",
       " 'Brats18_CBICA_AQN_1': './data/BraTS2018/MICCAI_BraTS_2018_Data_Training/HGG\\\\Brats18_CBICA_AQN_1\\\\Brats18_CBICA_AQN_1_seg.nii.gz',\n",
       " 'Brats18_CBICA_AQO_1': './data/BraTS2018/MICCAI_BraTS_2018_Data_Training/HGG\\\\Brats18_CBICA_AQO_1\\\\Brats18_CBICA_AQO_1_seg.nii.gz',\n",
       " 'Brats18_CBICA_AQP_1': './data/BraTS2018/MICCAI_BraTS_2018_Data_Training/HGG\\\\Brats18_CBICA_AQP_1\\\\Brats18_CBICA_AQP_1_seg.nii.gz',\n",
       " 'Brats18_CBICA_AQQ_1': './data/BraTS2018/MICCAI_BraTS_2018_Data_Training/HGG\\\\Brats18_CBICA_AQQ_1\\\\Brats18_CBICA_AQQ_1_seg.nii.gz',\n",
       " 'Brats18_CBICA_AQR_1': './data/BraTS2018/MICCAI_BraTS_2018_Data_Training/HGG\\\\Brats18_CBICA_AQR_1\\\\Brats18_CBICA_AQR_1_seg.nii.gz',\n",
       " 'Brats18_CBICA_AQT_1': './data/BraTS2018/MICCAI_BraTS_2018_Data_Training/HGG\\\\Brats18_CBICA_AQT_1\\\\Brats18_CBICA_AQT_1_seg.nii.gz',\n",
       " 'Brats18_CBICA_AQU_1': './data/BraTS2018/MICCAI_BraTS_2018_Data_Training/HGG\\\\Brats18_CBICA_AQU_1\\\\Brats18_CBICA_AQU_1_seg.nii.gz',\n",
       " 'Brats18_CBICA_AQV_1': './data/BraTS2018/MICCAI_BraTS_2018_Data_Training/HGG\\\\Brats18_CBICA_AQV_1\\\\Brats18_CBICA_AQV_1_seg.nii.gz',\n",
       " 'Brats18_CBICA_AQY_1': './data/BraTS2018/MICCAI_BraTS_2018_Data_Training/HGG\\\\Brats18_CBICA_AQY_1\\\\Brats18_CBICA_AQY_1_seg.nii.gz',\n",
       " 'Brats18_CBICA_AQZ_1': './data/BraTS2018/MICCAI_BraTS_2018_Data_Training/HGG\\\\Brats18_CBICA_AQZ_1\\\\Brats18_CBICA_AQZ_1_seg.nii.gz',\n",
       " 'Brats18_CBICA_ARF_1': './data/BraTS2018/MICCAI_BraTS_2018_Data_Training/HGG\\\\Brats18_CBICA_ARF_1\\\\Brats18_CBICA_ARF_1_seg.nii.gz',\n",
       " 'Brats18_CBICA_ARW_1': './data/BraTS2018/MICCAI_BraTS_2018_Data_Training/HGG\\\\Brats18_CBICA_ARW_1\\\\Brats18_CBICA_ARW_1_seg.nii.gz',\n",
       " 'Brats18_CBICA_ARZ_1': './data/BraTS2018/MICCAI_BraTS_2018_Data_Training/HGG\\\\Brats18_CBICA_ARZ_1\\\\Brats18_CBICA_ARZ_1_seg.nii.gz',\n",
       " 'Brats18_CBICA_ASA_1': './data/BraTS2018/MICCAI_BraTS_2018_Data_Training/HGG\\\\Brats18_CBICA_ASA_1\\\\Brats18_CBICA_ASA_1_seg.nii.gz',\n",
       " 'Brats18_CBICA_ASE_1': './data/BraTS2018/MICCAI_BraTS_2018_Data_Training/HGG\\\\Brats18_CBICA_ASE_1\\\\Brats18_CBICA_ASE_1_seg.nii.gz',\n",
       " 'Brats18_CBICA_ASG_1': './data/BraTS2018/MICCAI_BraTS_2018_Data_Training/HGG\\\\Brats18_CBICA_ASG_1\\\\Brats18_CBICA_ASG_1_seg.nii.gz',\n",
       " 'Brats18_CBICA_ASH_1': './data/BraTS2018/MICCAI_BraTS_2018_Data_Training/HGG\\\\Brats18_CBICA_ASH_1\\\\Brats18_CBICA_ASH_1_seg.nii.gz',\n",
       " 'Brats18_CBICA_ASK_1': './data/BraTS2018/MICCAI_BraTS_2018_Data_Training/HGG\\\\Brats18_CBICA_ASK_1\\\\Brats18_CBICA_ASK_1_seg.nii.gz',\n",
       " 'Brats18_CBICA_ASN_1': './data/BraTS2018/MICCAI_BraTS_2018_Data_Training/HGG\\\\Brats18_CBICA_ASN_1\\\\Brats18_CBICA_ASN_1_seg.nii.gz',\n",
       " 'Brats18_CBICA_ASO_1': './data/BraTS2018/MICCAI_BraTS_2018_Data_Training/HGG\\\\Brats18_CBICA_ASO_1\\\\Brats18_CBICA_ASO_1_seg.nii.gz',\n",
       " 'Brats18_CBICA_ASU_1': './data/BraTS2018/MICCAI_BraTS_2018_Data_Training/HGG\\\\Brats18_CBICA_ASU_1\\\\Brats18_CBICA_ASU_1_seg.nii.gz',\n",
       " 'Brats18_CBICA_ASV_1': './data/BraTS2018/MICCAI_BraTS_2018_Data_Training/HGG\\\\Brats18_CBICA_ASV_1\\\\Brats18_CBICA_ASV_1_seg.nii.gz',\n",
       " 'Brats18_CBICA_ASW_1': './data/BraTS2018/MICCAI_BraTS_2018_Data_Training/HGG\\\\Brats18_CBICA_ASW_1\\\\Brats18_CBICA_ASW_1_seg.nii.gz',\n",
       " 'Brats18_CBICA_ASY_1': './data/BraTS2018/MICCAI_BraTS_2018_Data_Training/HGG\\\\Brats18_CBICA_ASY_1\\\\Brats18_CBICA_ASY_1_seg.nii.gz',\n",
       " 'Brats18_CBICA_ATB_1': './data/BraTS2018/MICCAI_BraTS_2018_Data_Training/HGG\\\\Brats18_CBICA_ATB_1\\\\Brats18_CBICA_ATB_1_seg.nii.gz',\n",
       " 'Brats18_CBICA_ATD_1': './data/BraTS2018/MICCAI_BraTS_2018_Data_Training/HGG\\\\Brats18_CBICA_ATD_1\\\\Brats18_CBICA_ATD_1_seg.nii.gz',\n",
       " 'Brats18_CBICA_ATF_1': './data/BraTS2018/MICCAI_BraTS_2018_Data_Training/HGG\\\\Brats18_CBICA_ATF_1\\\\Brats18_CBICA_ATF_1_seg.nii.gz',\n",
       " 'Brats18_CBICA_ATP_1': './data/BraTS2018/MICCAI_BraTS_2018_Data_Training/HGG\\\\Brats18_CBICA_ATP_1\\\\Brats18_CBICA_ATP_1_seg.nii.gz',\n",
       " 'Brats18_CBICA_ATV_1': './data/BraTS2018/MICCAI_BraTS_2018_Data_Training/HGG\\\\Brats18_CBICA_ATV_1\\\\Brats18_CBICA_ATV_1_seg.nii.gz',\n",
       " 'Brats18_CBICA_ATX_1': './data/BraTS2018/MICCAI_BraTS_2018_Data_Training/HGG\\\\Brats18_CBICA_ATX_1\\\\Brats18_CBICA_ATX_1_seg.nii.gz',\n",
       " 'Brats18_CBICA_AUN_1': './data/BraTS2018/MICCAI_BraTS_2018_Data_Training/HGG\\\\Brats18_CBICA_AUN_1\\\\Brats18_CBICA_AUN_1_seg.nii.gz',\n",
       " 'Brats18_CBICA_AUQ_1': './data/BraTS2018/MICCAI_BraTS_2018_Data_Training/HGG\\\\Brats18_CBICA_AUQ_1\\\\Brats18_CBICA_AUQ_1_seg.nii.gz',\n",
       " 'Brats18_CBICA_AUR_1': './data/BraTS2018/MICCAI_BraTS_2018_Data_Training/HGG\\\\Brats18_CBICA_AUR_1\\\\Brats18_CBICA_AUR_1_seg.nii.gz',\n",
       " 'Brats18_CBICA_AVG_1': './data/BraTS2018/MICCAI_BraTS_2018_Data_Training/HGG\\\\Brats18_CBICA_AVG_1\\\\Brats18_CBICA_AVG_1_seg.nii.gz',\n",
       " 'Brats18_CBICA_AVJ_1': './data/BraTS2018/MICCAI_BraTS_2018_Data_Training/HGG\\\\Brats18_CBICA_AVJ_1\\\\Brats18_CBICA_AVJ_1_seg.nii.gz',\n",
       " 'Brats18_CBICA_AVV_1': './data/BraTS2018/MICCAI_BraTS_2018_Data_Training/HGG\\\\Brats18_CBICA_AVV_1\\\\Brats18_CBICA_AVV_1_seg.nii.gz',\n",
       " 'Brats18_CBICA_AWG_1': './data/BraTS2018/MICCAI_BraTS_2018_Data_Training/HGG\\\\Brats18_CBICA_AWG_1\\\\Brats18_CBICA_AWG_1_seg.nii.gz',\n",
       " 'Brats18_CBICA_AWH_1': './data/BraTS2018/MICCAI_BraTS_2018_Data_Training/HGG\\\\Brats18_CBICA_AWH_1\\\\Brats18_CBICA_AWH_1_seg.nii.gz',\n",
       " 'Brats18_CBICA_AWI_1': './data/BraTS2018/MICCAI_BraTS_2018_Data_Training/HGG\\\\Brats18_CBICA_AWI_1\\\\Brats18_CBICA_AWI_1_seg.nii.gz',\n",
       " 'Brats18_CBICA_AXJ_1': './data/BraTS2018/MICCAI_BraTS_2018_Data_Training/HGG\\\\Brats18_CBICA_AXJ_1\\\\Brats18_CBICA_AXJ_1_seg.nii.gz',\n",
       " 'Brats18_CBICA_AXL_1': './data/BraTS2018/MICCAI_BraTS_2018_Data_Training/HGG\\\\Brats18_CBICA_AXL_1\\\\Brats18_CBICA_AXL_1_seg.nii.gz',\n",
       " 'Brats18_CBICA_AXM_1': './data/BraTS2018/MICCAI_BraTS_2018_Data_Training/HGG\\\\Brats18_CBICA_AXM_1\\\\Brats18_CBICA_AXM_1_seg.nii.gz',\n",
       " 'Brats18_CBICA_AXN_1': './data/BraTS2018/MICCAI_BraTS_2018_Data_Training/HGG\\\\Brats18_CBICA_AXN_1\\\\Brats18_CBICA_AXN_1_seg.nii.gz',\n",
       " 'Brats18_CBICA_AXO_1': './data/BraTS2018/MICCAI_BraTS_2018_Data_Training/HGG\\\\Brats18_CBICA_AXO_1\\\\Brats18_CBICA_AXO_1_seg.nii.gz',\n",
       " 'Brats18_CBICA_AXQ_1': './data/BraTS2018/MICCAI_BraTS_2018_Data_Training/HGG\\\\Brats18_CBICA_AXQ_1\\\\Brats18_CBICA_AXQ_1_seg.nii.gz',\n",
       " 'Brats18_CBICA_AXW_1': './data/BraTS2018/MICCAI_BraTS_2018_Data_Training/HGG\\\\Brats18_CBICA_AXW_1\\\\Brats18_CBICA_AXW_1_seg.nii.gz',\n",
       " 'Brats18_CBICA_AYA_1': './data/BraTS2018/MICCAI_BraTS_2018_Data_Training/HGG\\\\Brats18_CBICA_AYA_1\\\\Brats18_CBICA_AYA_1_seg.nii.gz',\n",
       " 'Brats18_CBICA_AYI_1': './data/BraTS2018/MICCAI_BraTS_2018_Data_Training/HGG\\\\Brats18_CBICA_AYI_1\\\\Brats18_CBICA_AYI_1_seg.nii.gz',\n",
       " 'Brats18_CBICA_AYU_1': './data/BraTS2018/MICCAI_BraTS_2018_Data_Training/HGG\\\\Brats18_CBICA_AYU_1\\\\Brats18_CBICA_AYU_1_seg.nii.gz',\n",
       " 'Brats18_CBICA_AYW_1': './data/BraTS2018/MICCAI_BraTS_2018_Data_Training/HGG\\\\Brats18_CBICA_AYW_1\\\\Brats18_CBICA_AYW_1_seg.nii.gz',\n",
       " 'Brats18_CBICA_AZD_1': './data/BraTS2018/MICCAI_BraTS_2018_Data_Training/HGG\\\\Brats18_CBICA_AZD_1\\\\Brats18_CBICA_AZD_1_seg.nii.gz',\n",
       " 'Brats18_CBICA_AZH_1': './data/BraTS2018/MICCAI_BraTS_2018_Data_Training/HGG\\\\Brats18_CBICA_AZH_1\\\\Brats18_CBICA_AZH_1_seg.nii.gz',\n",
       " 'Brats18_CBICA_BFB_1': './data/BraTS2018/MICCAI_BraTS_2018_Data_Training/HGG\\\\Brats18_CBICA_BFB_1\\\\Brats18_CBICA_BFB_1_seg.nii.gz',\n",
       " 'Brats18_CBICA_BFP_1': './data/BraTS2018/MICCAI_BraTS_2018_Data_Training/HGG\\\\Brats18_CBICA_BFP_1\\\\Brats18_CBICA_BFP_1_seg.nii.gz',\n",
       " 'Brats18_CBICA_BHB_1': './data/BraTS2018/MICCAI_BraTS_2018_Data_Training/HGG\\\\Brats18_CBICA_BHB_1\\\\Brats18_CBICA_BHB_1_seg.nii.gz',\n",
       " 'Brats18_CBICA_BHK_1': './data/BraTS2018/MICCAI_BraTS_2018_Data_Training/HGG\\\\Brats18_CBICA_BHK_1\\\\Brats18_CBICA_BHK_1_seg.nii.gz',\n",
       " 'Brats18_CBICA_BHM_1': './data/BraTS2018/MICCAI_BraTS_2018_Data_Training/HGG\\\\Brats18_CBICA_BHM_1\\\\Brats18_CBICA_BHM_1_seg.nii.gz',\n",
       " 'Brats18_TCIA01_131_1': './data/BraTS2018/MICCAI_BraTS_2018_Data_Training/HGG\\\\Brats18_TCIA01_131_1\\\\Brats18_TCIA01_131_1_seg.nii.gz',\n",
       " 'Brats18_TCIA01_147_1': './data/BraTS2018/MICCAI_BraTS_2018_Data_Training/HGG\\\\Brats18_TCIA01_147_1\\\\Brats18_TCIA01_147_1_seg.nii.gz',\n",
       " 'Brats18_TCIA01_150_1': './data/BraTS2018/MICCAI_BraTS_2018_Data_Training/HGG\\\\Brats18_TCIA01_150_1\\\\Brats18_TCIA01_150_1_seg.nii.gz',\n",
       " 'Brats18_TCIA01_180_1': './data/BraTS2018/MICCAI_BraTS_2018_Data_Training/HGG\\\\Brats18_TCIA01_180_1\\\\Brats18_TCIA01_180_1_seg.nii.gz',\n",
       " 'Brats18_TCIA01_186_1': './data/BraTS2018/MICCAI_BraTS_2018_Data_Training/HGG\\\\Brats18_TCIA01_186_1\\\\Brats18_TCIA01_186_1_seg.nii.gz',\n",
       " 'Brats18_TCIA01_190_1': './data/BraTS2018/MICCAI_BraTS_2018_Data_Training/HGG\\\\Brats18_TCIA01_190_1\\\\Brats18_TCIA01_190_1_seg.nii.gz',\n",
       " 'Brats18_TCIA01_201_1': './data/BraTS2018/MICCAI_BraTS_2018_Data_Training/HGG\\\\Brats18_TCIA01_201_1\\\\Brats18_TCIA01_201_1_seg.nii.gz',\n",
       " 'Brats18_TCIA01_203_1': './data/BraTS2018/MICCAI_BraTS_2018_Data_Training/HGG\\\\Brats18_TCIA01_203_1\\\\Brats18_TCIA01_203_1_seg.nii.gz',\n",
       " 'Brats18_TCIA01_221_1': './data/BraTS2018/MICCAI_BraTS_2018_Data_Training/HGG\\\\Brats18_TCIA01_221_1\\\\Brats18_TCIA01_221_1_seg.nii.gz',\n",
       " 'Brats18_TCIA01_231_1': './data/BraTS2018/MICCAI_BraTS_2018_Data_Training/HGG\\\\Brats18_TCIA01_231_1\\\\Brats18_TCIA01_231_1_seg.nii.gz',\n",
       " 'Brats18_TCIA01_235_1': './data/BraTS2018/MICCAI_BraTS_2018_Data_Training/HGG\\\\Brats18_TCIA01_235_1\\\\Brats18_TCIA01_235_1_seg.nii.gz',\n",
       " 'Brats18_TCIA01_335_1': './data/BraTS2018/MICCAI_BraTS_2018_Data_Training/HGG\\\\Brats18_TCIA01_335_1\\\\Brats18_TCIA01_335_1_seg.nii.gz',\n",
       " 'Brats18_TCIA01_378_1': './data/BraTS2018/MICCAI_BraTS_2018_Data_Training/HGG\\\\Brats18_TCIA01_378_1\\\\Brats18_TCIA01_378_1_seg.nii.gz',\n",
       " 'Brats18_TCIA01_390_1': './data/BraTS2018/MICCAI_BraTS_2018_Data_Training/HGG\\\\Brats18_TCIA01_390_1\\\\Brats18_TCIA01_390_1_seg.nii.gz',\n",
       " 'Brats18_TCIA01_401_1': './data/BraTS2018/MICCAI_BraTS_2018_Data_Training/HGG\\\\Brats18_TCIA01_401_1\\\\Brats18_TCIA01_401_1_seg.nii.gz',\n",
       " 'Brats18_TCIA01_411_1': './data/BraTS2018/MICCAI_BraTS_2018_Data_Training/HGG\\\\Brats18_TCIA01_411_1\\\\Brats18_TCIA01_411_1_seg.nii.gz',\n",
       " 'Brats18_TCIA01_412_1': './data/BraTS2018/MICCAI_BraTS_2018_Data_Training/HGG\\\\Brats18_TCIA01_412_1\\\\Brats18_TCIA01_412_1_seg.nii.gz',\n",
       " 'Brats18_TCIA01_425_1': './data/BraTS2018/MICCAI_BraTS_2018_Data_Training/HGG\\\\Brats18_TCIA01_425_1\\\\Brats18_TCIA01_425_1_seg.nii.gz',\n",
       " 'Brats18_TCIA01_429_1': './data/BraTS2018/MICCAI_BraTS_2018_Data_Training/HGG\\\\Brats18_TCIA01_429_1\\\\Brats18_TCIA01_429_1_seg.nii.gz',\n",
       " 'Brats18_TCIA01_448_1': './data/BraTS2018/MICCAI_BraTS_2018_Data_Training/HGG\\\\Brats18_TCIA01_448_1\\\\Brats18_TCIA01_448_1_seg.nii.gz',\n",
       " 'Brats18_TCIA01_460_1': './data/BraTS2018/MICCAI_BraTS_2018_Data_Training/HGG\\\\Brats18_TCIA01_460_1\\\\Brats18_TCIA01_460_1_seg.nii.gz',\n",
       " 'Brats18_TCIA01_499_1': './data/BraTS2018/MICCAI_BraTS_2018_Data_Training/HGG\\\\Brats18_TCIA01_499_1\\\\Brats18_TCIA01_499_1_seg.nii.gz',\n",
       " 'Brats18_TCIA02_117_1': './data/BraTS2018/MICCAI_BraTS_2018_Data_Training/HGG\\\\Brats18_TCIA02_117_1\\\\Brats18_TCIA02_117_1_seg.nii.gz',\n",
       " 'Brats18_TCIA02_118_1': './data/BraTS2018/MICCAI_BraTS_2018_Data_Training/HGG\\\\Brats18_TCIA02_118_1\\\\Brats18_TCIA02_118_1_seg.nii.gz',\n",
       " 'Brats18_TCIA02_135_1': './data/BraTS2018/MICCAI_BraTS_2018_Data_Training/HGG\\\\Brats18_TCIA02_135_1\\\\Brats18_TCIA02_135_1_seg.nii.gz',\n",
       " 'Brats18_TCIA02_151_1': './data/BraTS2018/MICCAI_BraTS_2018_Data_Training/HGG\\\\Brats18_TCIA02_151_1\\\\Brats18_TCIA02_151_1_seg.nii.gz',\n",
       " 'Brats18_TCIA02_168_1': './data/BraTS2018/MICCAI_BraTS_2018_Data_Training/HGG\\\\Brats18_TCIA02_168_1\\\\Brats18_TCIA02_168_1_seg.nii.gz',\n",
       " 'Brats18_TCIA02_171_1': './data/BraTS2018/MICCAI_BraTS_2018_Data_Training/HGG\\\\Brats18_TCIA02_171_1\\\\Brats18_TCIA02_171_1_seg.nii.gz',\n",
       " 'Brats18_TCIA02_179_1': './data/BraTS2018/MICCAI_BraTS_2018_Data_Training/HGG\\\\Brats18_TCIA02_179_1\\\\Brats18_TCIA02_179_1_seg.nii.gz',\n",
       " 'Brats18_TCIA02_198_1': './data/BraTS2018/MICCAI_BraTS_2018_Data_Training/HGG\\\\Brats18_TCIA02_198_1\\\\Brats18_TCIA02_198_1_seg.nii.gz',\n",
       " 'Brats18_TCIA02_208_1': './data/BraTS2018/MICCAI_BraTS_2018_Data_Training/HGG\\\\Brats18_TCIA02_208_1\\\\Brats18_TCIA02_208_1_seg.nii.gz',\n",
       " 'Brats18_TCIA02_222_1': './data/BraTS2018/MICCAI_BraTS_2018_Data_Training/HGG\\\\Brats18_TCIA02_222_1\\\\Brats18_TCIA02_222_1_seg.nii.gz',\n",
       " 'Brats18_TCIA02_226_1': './data/BraTS2018/MICCAI_BraTS_2018_Data_Training/HGG\\\\Brats18_TCIA02_226_1\\\\Brats18_TCIA02_226_1_seg.nii.gz',\n",
       " 'Brats18_TCIA02_274_1': './data/BraTS2018/MICCAI_BraTS_2018_Data_Training/HGG\\\\Brats18_TCIA02_274_1\\\\Brats18_TCIA02_274_1_seg.nii.gz',\n",
       " 'Brats18_TCIA02_283_1': './data/BraTS2018/MICCAI_BraTS_2018_Data_Training/HGG\\\\Brats18_TCIA02_283_1\\\\Brats18_TCIA02_283_1_seg.nii.gz',\n",
       " 'Brats18_TCIA02_290_1': './data/BraTS2018/MICCAI_BraTS_2018_Data_Training/HGG\\\\Brats18_TCIA02_290_1\\\\Brats18_TCIA02_290_1_seg.nii.gz',\n",
       " 'Brats18_TCIA02_300_1': './data/BraTS2018/MICCAI_BraTS_2018_Data_Training/HGG\\\\Brats18_TCIA02_300_1\\\\Brats18_TCIA02_300_1_seg.nii.gz',\n",
       " 'Brats18_TCIA02_309_1': './data/BraTS2018/MICCAI_BraTS_2018_Data_Training/HGG\\\\Brats18_TCIA02_309_1\\\\Brats18_TCIA02_309_1_seg.nii.gz',\n",
       " 'Brats18_TCIA02_314_1': './data/BraTS2018/MICCAI_BraTS_2018_Data_Training/HGG\\\\Brats18_TCIA02_314_1\\\\Brats18_TCIA02_314_1_seg.nii.gz',\n",
       " 'Brats18_TCIA02_321_1': './data/BraTS2018/MICCAI_BraTS_2018_Data_Training/HGG\\\\Brats18_TCIA02_321_1\\\\Brats18_TCIA02_321_1_seg.nii.gz',\n",
       " 'Brats18_TCIA02_322_1': './data/BraTS2018/MICCAI_BraTS_2018_Data_Training/HGG\\\\Brats18_TCIA02_322_1\\\\Brats18_TCIA02_322_1_seg.nii.gz',\n",
       " 'Brats18_TCIA02_331_1': './data/BraTS2018/MICCAI_BraTS_2018_Data_Training/HGG\\\\Brats18_TCIA02_331_1\\\\Brats18_TCIA02_331_1_seg.nii.gz',\n",
       " 'Brats18_TCIA02_368_1': './data/BraTS2018/MICCAI_BraTS_2018_Data_Training/HGG\\\\Brats18_TCIA02_368_1\\\\Brats18_TCIA02_368_1_seg.nii.gz',\n",
       " 'Brats18_TCIA02_370_1': './data/BraTS2018/MICCAI_BraTS_2018_Data_Training/HGG\\\\Brats18_TCIA02_370_1\\\\Brats18_TCIA02_370_1_seg.nii.gz',\n",
       " 'Brats18_TCIA02_374_1': './data/BraTS2018/MICCAI_BraTS_2018_Data_Training/HGG\\\\Brats18_TCIA02_374_1\\\\Brats18_TCIA02_374_1_seg.nii.gz',\n",
       " 'Brats18_TCIA02_377_1': './data/BraTS2018/MICCAI_BraTS_2018_Data_Training/HGG\\\\Brats18_TCIA02_377_1\\\\Brats18_TCIA02_377_1_seg.nii.gz',\n",
       " 'Brats18_TCIA02_394_1': './data/BraTS2018/MICCAI_BraTS_2018_Data_Training/HGG\\\\Brats18_TCIA02_394_1\\\\Brats18_TCIA02_394_1_seg.nii.gz',\n",
       " 'Brats18_TCIA02_430_1': './data/BraTS2018/MICCAI_BraTS_2018_Data_Training/HGG\\\\Brats18_TCIA02_430_1\\\\Brats18_TCIA02_430_1_seg.nii.gz',\n",
       " 'Brats18_TCIA02_455_1': './data/BraTS2018/MICCAI_BraTS_2018_Data_Training/HGG\\\\Brats18_TCIA02_455_1\\\\Brats18_TCIA02_455_1_seg.nii.gz',\n",
       " 'Brats18_TCIA02_471_1': './data/BraTS2018/MICCAI_BraTS_2018_Data_Training/HGG\\\\Brats18_TCIA02_471_1\\\\Brats18_TCIA02_471_1_seg.nii.gz',\n",
       " 'Brats18_TCIA02_473_1': './data/BraTS2018/MICCAI_BraTS_2018_Data_Training/HGG\\\\Brats18_TCIA02_473_1\\\\Brats18_TCIA02_473_1_seg.nii.gz',\n",
       " 'Brats18_TCIA02_491_1': './data/BraTS2018/MICCAI_BraTS_2018_Data_Training/HGG\\\\Brats18_TCIA02_491_1\\\\Brats18_TCIA02_491_1_seg.nii.gz',\n",
       " 'Brats18_TCIA02_605_1': './data/BraTS2018/MICCAI_BraTS_2018_Data_Training/HGG\\\\Brats18_TCIA02_605_1\\\\Brats18_TCIA02_605_1_seg.nii.gz',\n",
       " 'Brats18_TCIA02_606_1': './data/BraTS2018/MICCAI_BraTS_2018_Data_Training/HGG\\\\Brats18_TCIA02_606_1\\\\Brats18_TCIA02_606_1_seg.nii.gz',\n",
       " 'Brats18_TCIA02_607_1': './data/BraTS2018/MICCAI_BraTS_2018_Data_Training/HGG\\\\Brats18_TCIA02_607_1\\\\Brats18_TCIA02_607_1_seg.nii.gz',\n",
       " 'Brats18_TCIA02_608_1': './data/BraTS2018/MICCAI_BraTS_2018_Data_Training/HGG\\\\Brats18_TCIA02_608_1\\\\Brats18_TCIA02_608_1_seg.nii.gz',\n",
       " 'Brats18_TCIA03_121_1': './data/BraTS2018/MICCAI_BraTS_2018_Data_Training/HGG\\\\Brats18_TCIA03_121_1\\\\Brats18_TCIA03_121_1_seg.nii.gz',\n",
       " 'Brats18_TCIA03_133_1': './data/BraTS2018/MICCAI_BraTS_2018_Data_Training/HGG\\\\Brats18_TCIA03_133_1\\\\Brats18_TCIA03_133_1_seg.nii.gz',\n",
       " 'Brats18_TCIA03_138_1': './data/BraTS2018/MICCAI_BraTS_2018_Data_Training/HGG\\\\Brats18_TCIA03_138_1\\\\Brats18_TCIA03_138_1_seg.nii.gz',\n",
       " 'Brats18_TCIA03_199_1': './data/BraTS2018/MICCAI_BraTS_2018_Data_Training/HGG\\\\Brats18_TCIA03_199_1\\\\Brats18_TCIA03_199_1_seg.nii.gz',\n",
       " 'Brats18_TCIA03_257_1': './data/BraTS2018/MICCAI_BraTS_2018_Data_Training/HGG\\\\Brats18_TCIA03_257_1\\\\Brats18_TCIA03_257_1_seg.nii.gz',\n",
       " 'Brats18_TCIA03_265_1': './data/BraTS2018/MICCAI_BraTS_2018_Data_Training/HGG\\\\Brats18_TCIA03_265_1\\\\Brats18_TCIA03_265_1_seg.nii.gz',\n",
       " 'Brats18_TCIA03_296_1': './data/BraTS2018/MICCAI_BraTS_2018_Data_Training/HGG\\\\Brats18_TCIA03_296_1\\\\Brats18_TCIA03_296_1_seg.nii.gz',\n",
       " 'Brats18_TCIA03_338_1': './data/BraTS2018/MICCAI_BraTS_2018_Data_Training/HGG\\\\Brats18_TCIA03_338_1\\\\Brats18_TCIA03_338_1_seg.nii.gz',\n",
       " 'Brats18_TCIA03_375_1': './data/BraTS2018/MICCAI_BraTS_2018_Data_Training/HGG\\\\Brats18_TCIA03_375_1\\\\Brats18_TCIA03_375_1_seg.nii.gz',\n",
       " 'Brats18_TCIA03_419_1': './data/BraTS2018/MICCAI_BraTS_2018_Data_Training/HGG\\\\Brats18_TCIA03_419_1\\\\Brats18_TCIA03_419_1_seg.nii.gz',\n",
       " 'Brats18_TCIA03_474_1': './data/BraTS2018/MICCAI_BraTS_2018_Data_Training/HGG\\\\Brats18_TCIA03_474_1\\\\Brats18_TCIA03_474_1_seg.nii.gz',\n",
       " 'Brats18_TCIA03_498_1': './data/BraTS2018/MICCAI_BraTS_2018_Data_Training/HGG\\\\Brats18_TCIA03_498_1\\\\Brats18_TCIA03_498_1_seg.nii.gz',\n",
       " 'Brats18_TCIA04_111_1': './data/BraTS2018/MICCAI_BraTS_2018_Data_Training/HGG\\\\Brats18_TCIA04_111_1\\\\Brats18_TCIA04_111_1_seg.nii.gz',\n",
       " 'Brats18_TCIA04_149_1': './data/BraTS2018/MICCAI_BraTS_2018_Data_Training/HGG\\\\Brats18_TCIA04_149_1\\\\Brats18_TCIA04_149_1_seg.nii.gz',\n",
       " 'Brats18_TCIA04_192_1': './data/BraTS2018/MICCAI_BraTS_2018_Data_Training/HGG\\\\Brats18_TCIA04_192_1\\\\Brats18_TCIA04_192_1_seg.nii.gz',\n",
       " 'Brats18_TCIA04_328_1': './data/BraTS2018/MICCAI_BraTS_2018_Data_Training/HGG\\\\Brats18_TCIA04_328_1\\\\Brats18_TCIA04_328_1_seg.nii.gz',\n",
       " 'Brats18_TCIA04_343_1': './data/BraTS2018/MICCAI_BraTS_2018_Data_Training/HGG\\\\Brats18_TCIA04_343_1\\\\Brats18_TCIA04_343_1_seg.nii.gz',\n",
       " 'Brats18_TCIA04_361_1': './data/BraTS2018/MICCAI_BraTS_2018_Data_Training/HGG\\\\Brats18_TCIA04_361_1\\\\Brats18_TCIA04_361_1_seg.nii.gz',\n",
       " 'Brats18_TCIA04_437_1': './data/BraTS2018/MICCAI_BraTS_2018_Data_Training/HGG\\\\Brats18_TCIA04_437_1\\\\Brats18_TCIA04_437_1_seg.nii.gz',\n",
       " 'Brats18_TCIA04_479_1': './data/BraTS2018/MICCAI_BraTS_2018_Data_Training/HGG\\\\Brats18_TCIA04_479_1\\\\Brats18_TCIA04_479_1_seg.nii.gz',\n",
       " 'Brats18_TCIA05_277_1': './data/BraTS2018/MICCAI_BraTS_2018_Data_Training/HGG\\\\Brats18_TCIA05_277_1\\\\Brats18_TCIA05_277_1_seg.nii.gz',\n",
       " 'Brats18_TCIA05_396_1': './data/BraTS2018/MICCAI_BraTS_2018_Data_Training/HGG\\\\Brats18_TCIA05_396_1\\\\Brats18_TCIA05_396_1_seg.nii.gz',\n",
       " 'Brats18_TCIA05_444_1': './data/BraTS2018/MICCAI_BraTS_2018_Data_Training/HGG\\\\Brats18_TCIA05_444_1\\\\Brats18_TCIA05_444_1_seg.nii.gz',\n",
       " 'Brats18_TCIA05_478_1': './data/BraTS2018/MICCAI_BraTS_2018_Data_Training/HGG\\\\Brats18_TCIA05_478_1\\\\Brats18_TCIA05_478_1_seg.nii.gz',\n",
       " 'Brats18_TCIA06_165_1': './data/BraTS2018/MICCAI_BraTS_2018_Data_Training/HGG\\\\Brats18_TCIA06_165_1\\\\Brats18_TCIA06_165_1_seg.nii.gz',\n",
       " 'Brats18_TCIA06_184_1': './data/BraTS2018/MICCAI_BraTS_2018_Data_Training/HGG\\\\Brats18_TCIA06_184_1\\\\Brats18_TCIA06_184_1_seg.nii.gz',\n",
       " 'Brats18_TCIA06_211_1': './data/BraTS2018/MICCAI_BraTS_2018_Data_Training/HGG\\\\Brats18_TCIA06_211_1\\\\Brats18_TCIA06_211_1_seg.nii.gz',\n",
       " 'Brats18_TCIA06_247_1': './data/BraTS2018/MICCAI_BraTS_2018_Data_Training/HGG\\\\Brats18_TCIA06_247_1\\\\Brats18_TCIA06_247_1_seg.nii.gz',\n",
       " 'Brats18_TCIA06_332_1': './data/BraTS2018/MICCAI_BraTS_2018_Data_Training/HGG\\\\Brats18_TCIA06_332_1\\\\Brats18_TCIA06_332_1_seg.nii.gz',\n",
       " 'Brats18_TCIA06_372_1': './data/BraTS2018/MICCAI_BraTS_2018_Data_Training/HGG\\\\Brats18_TCIA06_372_1\\\\Brats18_TCIA06_372_1_seg.nii.gz',\n",
       " 'Brats18_TCIA06_409_1': './data/BraTS2018/MICCAI_BraTS_2018_Data_Training/HGG\\\\Brats18_TCIA06_409_1\\\\Brats18_TCIA06_409_1_seg.nii.gz',\n",
       " 'Brats18_TCIA06_603_1': './data/BraTS2018/MICCAI_BraTS_2018_Data_Training/HGG\\\\Brats18_TCIA06_603_1\\\\Brats18_TCIA06_603_1_seg.nii.gz',\n",
       " 'Brats18_TCIA08_105_1': './data/BraTS2018/MICCAI_BraTS_2018_Data_Training/HGG\\\\Brats18_TCIA08_105_1\\\\Brats18_TCIA08_105_1_seg.nii.gz',\n",
       " 'Brats18_TCIA08_113_1': './data/BraTS2018/MICCAI_BraTS_2018_Data_Training/HGG\\\\Brats18_TCIA08_113_1\\\\Brats18_TCIA08_113_1_seg.nii.gz',\n",
       " 'Brats18_TCIA08_162_1': './data/BraTS2018/MICCAI_BraTS_2018_Data_Training/HGG\\\\Brats18_TCIA08_162_1\\\\Brats18_TCIA08_162_1_seg.nii.gz',\n",
       " 'Brats18_TCIA08_167_1': './data/BraTS2018/MICCAI_BraTS_2018_Data_Training/HGG\\\\Brats18_TCIA08_167_1\\\\Brats18_TCIA08_167_1_seg.nii.gz',\n",
       " 'Brats18_TCIA08_205_1': './data/BraTS2018/MICCAI_BraTS_2018_Data_Training/HGG\\\\Brats18_TCIA08_205_1\\\\Brats18_TCIA08_205_1_seg.nii.gz',\n",
       " 'Brats18_TCIA08_218_1': './data/BraTS2018/MICCAI_BraTS_2018_Data_Training/HGG\\\\Brats18_TCIA08_218_1\\\\Brats18_TCIA08_218_1_seg.nii.gz',\n",
       " 'Brats18_TCIA08_234_1': './data/BraTS2018/MICCAI_BraTS_2018_Data_Training/HGG\\\\Brats18_TCIA08_234_1\\\\Brats18_TCIA08_234_1_seg.nii.gz',\n",
       " 'Brats18_TCIA08_242_1': './data/BraTS2018/MICCAI_BraTS_2018_Data_Training/HGG\\\\Brats18_TCIA08_242_1\\\\Brats18_TCIA08_242_1_seg.nii.gz',\n",
       " 'Brats18_TCIA08_278_1': './data/BraTS2018/MICCAI_BraTS_2018_Data_Training/HGG\\\\Brats18_TCIA08_278_1\\\\Brats18_TCIA08_278_1_seg.nii.gz',\n",
       " 'Brats18_TCIA08_280_1': './data/BraTS2018/MICCAI_BraTS_2018_Data_Training/HGG\\\\Brats18_TCIA08_280_1\\\\Brats18_TCIA08_280_1_seg.nii.gz',\n",
       " 'Brats18_TCIA08_319_1': './data/BraTS2018/MICCAI_BraTS_2018_Data_Training/HGG\\\\Brats18_TCIA08_319_1\\\\Brats18_TCIA08_319_1_seg.nii.gz',\n",
       " 'Brats18_TCIA08_406_1': './data/BraTS2018/MICCAI_BraTS_2018_Data_Training/HGG\\\\Brats18_TCIA08_406_1\\\\Brats18_TCIA08_406_1_seg.nii.gz',\n",
       " 'Brats18_TCIA08_436_1': './data/BraTS2018/MICCAI_BraTS_2018_Data_Training/HGG\\\\Brats18_TCIA08_436_1\\\\Brats18_TCIA08_436_1_seg.nii.gz',\n",
       " 'Brats18_TCIA08_469_1': './data/BraTS2018/MICCAI_BraTS_2018_Data_Training/HGG\\\\Brats18_TCIA08_469_1\\\\Brats18_TCIA08_469_1_seg.nii.gz'}"
      ]
     },
     "execution_count": 60,
     "metadata": {},
     "output_type": "execute_result"
    }
   ],
   "source": [
    "seg_files"
   ]
  },
  {
   "cell_type": "code",
   "execution_count": 61,
   "metadata": {},
   "outputs": [],
   "source": [
    "def regroup_mask_array(mask_array):\n",
    "    regrouped = mask_array\n",
    "    regrouped[regrouped == 3] = 0\n",
    "    regrouped[regrouped != 0] = 100\n",
    "    return regrouped"
   ]
  },
  {
   "cell_type": "code",
   "execution_count": 62,
   "metadata": {},
   "outputs": [],
   "source": [
    "import PIL.Image\n",
    "from io import BytesIO\n",
    "import IPython.display\n",
    "\n",
    "def showarray(a, fmt = 'png'):\n",
    "    a = np.uint8(a)\n",
    "    f = BytesIO()\n",
    "    PIL.Image.fromarray(a).save(f, fmt)\n",
    "    IPython.display.display(IPython.display.Image(data=f.getvalue()))"
   ]
  },
  {
   "cell_type": "code",
   "execution_count": 70,
   "metadata": {},
   "outputs": [
    {
     "name": "stdout",
     "output_type": "stream",
     "text": [
      "brain: Brats18_TCIA08_234_1, z: 90\n"
     ]
    },
    {
     "data": {
      "image/png": "[encoded data removed]",
      "text/plain": [
       "<IPython.core.display.Image object>"
      ]
     },
     "metadata": {},
     "output_type": "display_data"
    },
    {
     "name": "stdout",
     "output_type": "stream",
     "text": [
      "brain: Brats18_CBICA_ALU_1, z: 90\n"
     ]
    },
    {
     "data": {
      "image/png": "[encoded data removed]",
      "text/plain": [
       "<IPython.core.display.Image object>"
      ]
     },
     "metadata": {},
     "output_type": "display_data"
    },
    {
     "name": "stdout",
     "output_type": "stream",
     "text": [
      "brain: Brats18_TCIA02_314_1, z: 90\n"
     ]
    },
    {
     "data": {
      "image/png": "[encoded data removed]",
      "text/plain": [
       "<IPython.core.display.Image object>"
      ]
     },
     "metadata": {},
     "output_type": "display_data"
    },
    {
     "name": "stdout",
     "output_type": "stream",
     "text": [
      "brain: Brats18_TCIA06_332_1, z: 90\n"
     ]
    },
    {
     "data": {
      "image/png": "[encoded data removed]",
      "text/plain": [
       "<IPython.core.display.Image object>"
      ]
     },
     "metadata": {},
     "output_type": "display_data"
    },
    {
     "name": "stdout",
     "output_type": "stream",
     "text": [
      "brain: Brats18_TCIA03_138_1, z: 90\n"
     ]
    },
    {
     "data": {
      "image/png": "[encoded data removed]",
      "text/plain": [
       "<IPython.core.display.Image object>"
      ]
     },
     "metadata": {},
     "output_type": "display_data"
    },
    {
     "name": "stdout",
     "output_type": "stream",
     "text": [
      "brain: Brats18_TCIA01_186_1, z: 90\n"
     ]
    },
    {
     "data": {
      "image/png": "[encoded data removed]",
      "text/plain": [
       "<IPython.core.display.Image object>"
      ]
     },
     "metadata": {},
     "output_type": "display_data"
    },
    {
     "name": "stdout",
     "output_type": "stream",
     "text": [
      "brain: Brats18_CBICA_ASH_1, z: 90\n"
     ]
    },
    {
     "data": {
      "image/png": "[encoded data removed]",
      "text/plain": [
       "<IPython.core.display.Image object>"
      ]
     },
     "metadata": {},
     "output_type": "display_data"
    },
    {
     "name": "stdout",
     "output_type": "stream",
     "text": [
      "brain: Brats18_CBICA_AXJ_1, z: 90\n"
     ]
    },
    {
     "data": {
      "image/png": "[encoded data removed]",
      "text/plain": [
       "<IPython.core.display.Image object>"
      ]
     },
     "metadata": {},
     "output_type": "display_data"
    },
    {
     "name": "stdout",
     "output_type": "stream",
     "text": [
      "brain: Brats18_CBICA_AQR_1, z: 90\n"
     ]
    },
    {
     "data": {
      "image/png": "[encoded data removed]",
      "text/plain": [
       "<IPython.core.display.Image object>"
      ]
     },
     "metadata": {},
     "output_type": "display_data"
    },
    {
     "name": "stdout",
     "output_type": "stream",
     "text": [
      "brain: Brats18_2013_25_1, z: 90\n"
     ]
    },
    {
     "data": {
      "image/png": "[encoded data removed]",
      "text/plain": [
       "<IPython.core.display.Image object>"
      ]
     },
     "metadata": {},
     "output_type": "display_data"
    },
    {
     "name": "stdout",
     "output_type": "stream",
     "text": [
      "brain: Brats18_CBICA_AQD_1, z: 90\n"
     ]
    },
    {
     "data": {
      "image/png": "[encoded data removed]",
      "text/plain": [
       "<IPython.core.display.Image object>"
      ]
     },
     "metadata": {},
     "output_type": "display_data"
    },
    {
     "name": "stdout",
     "output_type": "stream",
     "text": [
      "brain: Brats18_TCIA01_378_1, z: 90\n"
     ]
    },
    {
     "data": {
      "image/png": "[encoded data removed]",
      "text/plain": [
       "<IPython.core.display.Image object>"
      ]
     },
     "metadata": {},
     "output_type": "display_data"
    },
    {
     "name": "stdout",
     "output_type": "stream",
     "text": [
      "brain: Brats18_2013_20_1, z: 90\n"
     ]
    },
    {
     "data": {
      "image/png": "[encoded data removed]",
      "text/plain": [
       "<IPython.core.display.Image object>"
      ]
     },
     "metadata": {},
     "output_type": "display_data"
    },
    {
     "name": "stdout",
     "output_type": "stream",
     "text": [
      "brain: Brats18_TCIA03_474_1, z: 90\n"
     ]
    },
    {
     "data": {
      "image/png": "[encoded data removed]",
      "text/plain": [
       "<IPython.core.display.Image object>"
      ]
     },
     "metadata": {},
     "output_type": "display_data"
    },
    {
     "name": "stdout",
     "output_type": "stream",
     "text": [
      "brain: Brats18_CBICA_ABY_1, z: 90\n"
     ]
    },
    {
     "data": {
      "image/png": "[encoded data removed]",
      "text/plain": [
       "<IPython.core.display.Image object>"
      ]
     },
     "metadata": {},
     "output_type": "display_data"
    },
    {
     "name": "stdout",
     "output_type": "stream",
     "text": [
      "brain: Brats18_2013_4_1, z: 90\n"
     ]
    },
    {
     "data": {
      "image/png": "[encoded data removed]",
      "text/plain": [
       "<IPython.core.display.Image object>"
      ]
     },
     "metadata": {},
     "output_type": "display_data"
    },
    {
     "name": "stdout",
     "output_type": "stream",
     "text": [
      "brain: Brats18_CBICA_APZ_1, z: 90\n"
     ]
    },
    {
     "data": {
      "image/png": "[encoded data removed]",
      "text/plain": [
       "<IPython.core.display.Image object>"
      ]
     },
     "metadata": {},
     "output_type": "display_data"
    },
    {
     "name": "stdout",
     "output_type": "stream",
     "text": [
      "brain: Brats18_CBICA_ARZ_1, z: 90\n"
     ]
    },
    {
     "data": {
      "image/png": "[encoded data removed]",
      "text/plain": [
       "<IPython.core.display.Image object>"
      ]
     },
     "metadata": {},
     "output_type": "display_data"
    },
    {
     "name": "stdout",
     "output_type": "stream",
     "text": [
      "brain: Brats18_2013_5_1, z: 90\n"
     ]
    },
    {
     "data": {
      "image/png": "[encoded data removed]",
      "text/plain": [
       "<IPython.core.display.Image object>"
      ]
     },
     "metadata": {},
     "output_type": "display_data"
    },
    {
     "name": "stdout",
     "output_type": "stream",
     "text": [
      "brain: Brats18_TCIA01_203_1, z: 90\n"
     ]
    },
    {
     "data": {
      "image/png": "[encoded data removed]",
      "text/plain": [
       "<IPython.core.display.Image object>"
      ]
     },
     "metadata": {},
     "output_type": "display_data"
    },
    {
     "name": "stdout",
     "output_type": "stream",
     "text": [
      "brain: Brats18_CBICA_AUR_1, z: 90\n"
     ]
    },
    {
     "data": {
      "image/png": "[encoded data removed]",
      "text/plain": [
       "<IPython.core.display.Image object>"
      ]
     },
     "metadata": {},
     "output_type": "display_data"
    },
    {
     "name": "stdout",
     "output_type": "stream",
     "text": [
      "brain: Brats18_2013_22_1, z: 90\n"
     ]
    },
    {
     "data": {
      "image/png": "[encoded data removed]",
      "text/plain": [
       "<IPython.core.display.Image object>"
      ]
     },
     "metadata": {},
     "output_type": "display_data"
    },
    {
     "name": "stdout",
     "output_type": "stream",
     "text": [
      "brain: Brats18_TCIA02_430_1, z: 90\n"
     ]
    },
    {
     "data": {
      "image/png": "[encoded data removed]",
      "text/plain": [
       "<IPython.core.display.Image object>"
      ]
     },
     "metadata": {},
     "output_type": "display_data"
    },
    {
     "name": "stdout",
     "output_type": "stream",
     "text": [
      "brain: Brats18_TCIA06_409_1, z: 90\n"
     ]
    },
    {
     "data": {
      "image/png": "[encoded data removed]",
      "text/plain": [
       "<IPython.core.display.Image object>"
      ]
     },
     "metadata": {},
     "output_type": "display_data"
    },
    {
     "name": "stdout",
     "output_type": "stream",
     "text": [
      "brain: Brats18_TCIA05_444_1, z: 90\n"
     ]
    },
    {
     "data": {
      "image/png": "[encoded data removed]",
      "text/plain": [
       "<IPython.core.display.Image object>"
      ]
     },
     "metadata": {},
     "output_type": "display_data"
    },
    {
     "name": "stdout",
     "output_type": "stream",
     "text": [
      "brain: Brats18_TCIA02_608_1, z: 90\n"
     ]
    },
    {
     "data": {
      "image/png": "[encoded data removed]",
      "text/plain": [
       "<IPython.core.display.Image object>"
      ]
     },
     "metadata": {},
     "output_type": "display_data"
    },
    {
     "name": "stdout",
     "output_type": "stream",
     "text": [
      "brain: Brats18_2013_17_1, z: 90\n"
     ]
    },
    {
     "data": {
      "image/png": "[encoded data removed]",
      "text/plain": [
       "<IPython.core.display.Image object>"
      ]
     },
     "metadata": {},
     "output_type": "display_data"
    },
    {
     "name": "stdout",
     "output_type": "stream",
     "text": [
      "brain: Brats18_TCIA02_171_1, z: 90\n"
     ]
    },
    {
     "data": {
      "image/png": "[encoded data removed]",
      "text/plain": [
       "<IPython.core.display.Image object>"
      ]
     },
     "metadata": {},
     "output_type": "display_data"
    },
    {
     "name": "stdout",
     "output_type": "stream",
     "text": [
      "brain: Brats18_TCIA06_372_1, z: 90\n"
     ]
    },
    {
     "data": {
      "image/png": "[encoded data removed]",
      "text/plain": [
       "<IPython.core.display.Image object>"
      ]
     },
     "metadata": {},
     "output_type": "display_data"
    },
    {
     "name": "stdout",
     "output_type": "stream",
     "text": [
      "brain: Brats18_TCIA01_448_1, z: 90\n"
     ]
    },
    {
     "data": {
      "image/png": "[encoded data removed]",
      "text/plain": [
       "<IPython.core.display.Image object>"
      ]
     },
     "metadata": {},
     "output_type": "display_data"
    },
    {
     "name": "stdout",
     "output_type": "stream",
     "text": [
      "brain: Brats18_CBICA_APR_1, z: 90\n"
     ]
    },
    {
     "data": {
      "image/png": "[encoded data removed]",
      "text/plain": [
       "<IPython.core.display.Image object>"
      ]
     },
     "metadata": {},
     "output_type": "display_data"
    },
    {
     "name": "stdout",
     "output_type": "stream",
     "text": [
      "brain: Brats18_TCIA01_201_1, z: 90\n"
     ]
    },
    {
     "data": {
      "image/png": "[encoded data removed]",
      "text/plain": [
       "<IPython.core.display.Image object>"
      ]
     },
     "metadata": {},
     "output_type": "display_data"
    },
    {
     "name": "stdout",
     "output_type": "stream",
     "text": [
      "brain: Brats18_TCIA02_179_1, z: 90\n"
     ]
    },
    {
     "data": {
      "image/png": "[encoded data removed]",
      "text/plain": [
       "<IPython.core.display.Image object>"
      ]
     },
     "metadata": {},
     "output_type": "display_data"
    },
    {
     "name": "stdout",
     "output_type": "stream",
     "text": [
      "brain: Brats18_CBICA_AOP_1, z: 90\n"
     ]
    },
    {
     "data": {
      "image/png": "[encoded data removed]",
      "text/plain": [
       "<IPython.core.display.Image object>"
      ]
     },
     "metadata": {},
     "output_type": "display_data"
    },
    {
     "name": "stdout",
     "output_type": "stream",
     "text": [
      "brain: Brats18_CBICA_AVJ_1, z: 90\n"
     ]
    },
    {
     "data": {
      "image/png": "[encoded data removed]",
      "text/plain": [
       "<IPython.core.display.Image object>"
      ]
     },
     "metadata": {},
     "output_type": "display_data"
    },
    {
     "name": "stdout",
     "output_type": "stream",
     "text": [
      "brain: Brats18_TCIA01_235_1, z: 90\n"
     ]
    },
    {
     "data": {
      "image/png": "[encoded data removed]",
      "text/plain": [
       "<IPython.core.display.Image object>"
      ]
     },
     "metadata": {},
     "output_type": "display_data"
    },
    {
     "name": "stdout",
     "output_type": "stream",
     "text": [
      "brain: Brats18_CBICA_AAP_1, z: 90\n"
     ]
    },
    {
     "data": {
      "image/png": "[encoded data removed]",
      "text/plain": [
       "<IPython.core.display.Image object>"
      ]
     },
     "metadata": {},
     "output_type": "display_data"
    },
    {
     "name": "stdout",
     "output_type": "stream",
     "text": [
      "brain: Brats18_CBICA_AVV_1, z: 90\n"
     ]
    },
    {
     "data": {
      "image/png": "[encoded data removed]",
      "text/plain": [
       "<IPython.core.display.Image object>"
      ]
     },
     "metadata": {},
     "output_type": "display_data"
    },
    {
     "name": "stdout",
     "output_type": "stream",
     "text": [
      "brain: Brats18_TCIA08_162_1, z: 90\n"
     ]
    },
    {
     "data": {
      "image/png": "[encoded data removed]",
      "text/plain": [
       "<IPython.core.display.Image object>"
      ]
     },
     "metadata": {},
     "output_type": "display_data"
    },
    {
     "name": "stdout",
     "output_type": "stream",
     "text": [
      "brain: Brats18_CBICA_AZH_1, z: 90\n"
     ]
    },
    {
     "data": {
      "image/png": "[encoded data removed]",
      "text/plain": [
       "<IPython.core.display.Image object>"
      ]
     },
     "metadata": {},
     "output_type": "display_data"
    },
    {
     "name": "stdout",
     "output_type": "stream",
     "text": [
      "brain: Brats18_CBICA_AXW_1, z: 90\n"
     ]
    },
    {
     "data": {
      "image/png": "[encoded data removed]",
      "text/plain": [
       "<IPython.core.display.Image object>"
      ]
     },
     "metadata": {},
     "output_type": "display_data"
    },
    {
     "name": "stdout",
     "output_type": "stream",
     "text": [
      "brain: Brats18_TCIA03_498_1, z: 90\n"
     ]
    },
    {
     "data": {
      "image/png": "[encoded data removed]",
      "text/plain": [
       "<IPython.core.display.Image object>"
      ]
     },
     "metadata": {},
     "output_type": "display_data"
    },
    {
     "name": "stdout",
     "output_type": "stream",
     "text": [
      "brain: Brats18_CBICA_AXM_1, z: 90\n"
     ]
    },
    {
     "data": {
      "image/png": "[encoded data removed]",
      "text/plain": [
       "<IPython.core.display.Image object>"
      ]
     },
     "metadata": {},
     "output_type": "display_data"
    },
    {
     "name": "stdout",
     "output_type": "stream",
     "text": [
      "brain: Brats18_CBICA_AAB_1, z: 90\n"
     ]
    },
    {
     "data": {
      "image/png": "[encoded data removed]",
      "text/plain": [
       "<IPython.core.display.Image object>"
      ]
     },
     "metadata": {},
     "output_type": "display_data"
    },
    {
     "name": "stdout",
     "output_type": "stream",
     "text": [
      "brain: Brats18_TCIA01_401_1, z: 90\n"
     ]
    },
    {
     "data": {
      "image/png": "[encoded data removed]",
      "text/plain": [
       "<IPython.core.display.Image object>"
      ]
     },
     "metadata": {},
     "output_type": "display_data"
    },
    {
     "name": "stdout",
     "output_type": "stream",
     "text": [
      "brain: Brats18_TCIA02_370_1, z: 90\n"
     ]
    },
    {
     "data": {
      "image/png": "[encoded data removed]",
      "text/plain": [
       "<IPython.core.display.Image object>"
      ]
     },
     "metadata": {},
     "output_type": "display_data"
    },
    {
     "name": "stdout",
     "output_type": "stream",
     "text": [
      "brain: Brats18_TCIA02_471_1, z: 90\n"
     ]
    },
    {
     "data": {
      "image/png": "[encoded data removed]",
      "text/plain": [
       "<IPython.core.display.Image object>"
      ]
     },
     "metadata": {},
     "output_type": "display_data"
    },
    {
     "name": "stdout",
     "output_type": "stream",
     "text": [
      "brain: Brats18_CBICA_ASY_1, z: 90\n"
     ]
    },
    {
     "data": {
      "image/png": "[encoded data removed]",
      "text/plain": [
       "<IPython.core.display.Image object>"
      ]
     },
     "metadata": {},
     "output_type": "display_data"
    },
    {
     "name": "stdout",
     "output_type": "stream",
     "text": [
      "brain: Brats18_TCIA08_319_1, z: 90\n"
     ]
    },
    {
     "data": {
      "image/png": "[encoded data removed]",
      "text/plain": [
       "<IPython.core.display.Image object>"
      ]
     },
     "metadata": {},
     "output_type": "display_data"
    },
    {
     "name": "stdout",
     "output_type": "stream",
     "text": [
      "brain: Brats18_CBICA_BHM_1, z: 90\n"
     ]
    },
    {
     "data": {
      "image/png": "[encoded data removed]",
      "text/plain": [
       "<IPython.core.display.Image object>"
      ]
     },
     "metadata": {},
     "output_type": "display_data"
    }
   ],
   "source": [
    "import json\n",
    "\n",
    "with open('./visualize_set.json') as f:\n",
    "    brain_to_visualize = json.load(f)\n",
    "\n",
    "for brain in brain_to_visualize:\n",
    "    mask = seg_files[brain]\n",
    "    mask_array = nib.load(mask).get_fdata()\n",
    "    mask_regrouped = regroup_mask_array(mask_array)\n",
    "    z_idx = brain_to_visualize[brain]\n",
    "    print(f\"brain: {brain}, z: {z_idx}\")\n",
    "    showarray(mask_regrouped[..., z_idx])"
   ]
  },
  {
   "cell_type": "code",
   "execution_count": null,
   "metadata": {},
   "outputs": [],
   "source": []
  }
 ],
 "metadata": {
  "kernelspec": {
   "display_name": "Python 3",
   "language": "python",
   "name": "python3"
  },
  "language_info": {
   "codemirror_mode": {
    "name": "ipython",
    "version": 3
   },
   "file_extension": ".py",
   "mimetype": "text/x-python",
   "name": "python",
   "nbconvert_exporter": "python",
   "pygments_lexer": "ipython3",
   "version": "3.7.1"
  }
 },
 "nbformat": 4,
 "nbformat_minor": 4
}
